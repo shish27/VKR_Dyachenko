{
 "cells": [
  {
   "cell_type": "markdown",
   "id": "369cc6cf-9f94-4c02-b019-a7449e82adf0",
   "metadata": {},
   "source": [
    "Выпускная квалификационная работа по курсу «Data Science». Тема: Прогнозирование конечных свойств новых материалов (композиционных материалов)."
   ]
  },
  {
   "cell_type": "code",
   "execution_count": null,
   "id": "9d60ca12-3cce-4f91-9a27-ba7f02c62a76",
   "metadata": {},
   "outputs": [],
   "source": [
    "# импорт неободимых библиотек\n",
    "import numpy as np\n",
    "import pandas as pd\n",
    "import pandas_profiling\n",
    "import matplotlib.pyplot as plt\n",
    "import tensorflow as tf\n",
    "import seaborn as sns\n",
    "import matplotlib\n",
    "%matplotlib inline \n",
    "matplotlib.style.use('seaborn-talk')\n",
    "\n",
    "from scipy import stats\n",
    "from sklearn.preprocessing import MinMaxScaler\n",
    "from sklearn.model_selection import train_test_split\n",
    "from sklearn.model_selection import GridSearchCV\n",
    "from sklearn.linear_model import LinearRegression\n",
    "from sklearn.metrics import mean_squared_error\n",
    "from sklearn.metrics import mean_absolute_error\n",
    "from sklearn.ensemble import RandomForestRegressor, GradientBoostingRegressor\n",
    "from sklearn.neighbors import KNeighborsRegressor\n",
    "from tensorflow import keras\n",
    "from tensorflow.keras import Sequential\n",
    "from tensorflow.keras.layers import Dense, BatchNormalization"
   ]
  },
  {
   "cell_type": "code",
   "execution_count": null,
   "id": "9277e80b-11d6-4dc7-bb11-1563090aff6e",
   "metadata": {},
   "outputs": [],
   "source": [
    "# загрузка первого датасета (базальтопластик)\n",
    "df_bp = pd.read_excel('data/X_bp.xlsx')"
   ]
  },
  {
   "cell_type": "code",
   "execution_count": null,
   "id": "3cdea97c-1ebe-4908-8f64-2652a7997ea0",
   "metadata": {},
   "outputs": [],
   "source": [
    "# просмотр данных,содержащихся в датасете\n",
    "df_bp.sample(5)"
   ]
  },
  {
   "cell_type": "code",
   "execution_count": null,
   "id": "619ed581-0e0b-4f8a-8c68-5ea8b80770a2",
   "metadata": {},
   "outputs": [],
   "source": [
    "# размерность датасета\n",
    "df_bp.shape"
   ]
  },
  {
   "cell_type": "code",
   "execution_count": null,
   "id": "af7541cf-9753-41d5-9e8c-8db98c5a09f5",
   "metadata": {},
   "outputs": [],
   "source": [
    "# удалю столбец \"Unnamed: 0\", т.к. он не несет в себе данных, необходимых для дальнейшего исследования\n",
    "df_bp.drop(['Unnamed: 0'], axis=1, inplace=True)"
   ]
  },
  {
   "cell_type": "code",
   "execution_count": null,
   "id": "a36c9b7e-96c2-44e9-9114-e91b79bbae54",
   "metadata": {},
   "outputs": [],
   "source": [
    "# загрузка второго датасета (углепластик)\n",
    "df_up = pd.read_excel('data/X_nup.xlsx')"
   ]
  },
  {
   "cell_type": "code",
   "execution_count": null,
   "id": "8c360ede-6a93-49a7-b1f3-a3615be0ef52",
   "metadata": {},
   "outputs": [],
   "source": [
    "df_up.sample(5)"
   ]
  },
  {
   "cell_type": "code",
   "execution_count": null,
   "id": "c5a41dba-3f0b-4ad5-ab77-f07a7486945f",
   "metadata": {},
   "outputs": [],
   "source": [
    "# размерность датасета\n",
    "df_up.shape"
   ]
  },
  {
   "cell_type": "code",
   "execution_count": null,
   "id": "347e9094-2fe5-4fae-b6d4-b38cc39ac26c",
   "metadata": {},
   "outputs": [],
   "source": [
    "df_up.drop(['Unnamed: 0'], axis=1, inplace=True)"
   ]
  },
  {
   "cell_type": "code",
   "execution_count": null,
   "id": "6d1db151-ffb3-4eaf-bb31-f149ec63ecb6",
   "metadata": {},
   "outputs": [],
   "source": [
    "# объединю по индексу два датасета, тип объединения INNER\n",
    "df = df_bp.merge(df_up, left_index=True, right_index=True, how='inner')\n",
    "df.head()"
   ]
  },
  {
   "cell_type": "markdown",
   "id": "6bf1261b-88a1-444a-82c9-f555ef603238",
   "metadata": {},
   "source": [
    "Разведочный анализ:"
   ]
  },
  {
   "cell_type": "code",
   "execution_count": null,
   "id": "2b821336-4042-45f7-b5a0-17144f39fbd6",
   "metadata": {},
   "outputs": [],
   "source": [
    "# сделаю визуальную оценку данных и проведу разведочный анализ\n",
    "df"
   ]
  },
  {
   "cell_type": "code",
   "execution_count": null,
   "id": "0a198cbe-4e64-44b0-a6b1-219344597777",
   "metadata": {},
   "outputs": [],
   "source": [
    "df.info()"
   ]
  },
  {
   "cell_type": "code",
   "execution_count": null,
   "id": "ed320691-d27e-4240-be01-63f402ab695d",
   "metadata": {},
   "outputs": [],
   "source": [
    "# из таблицы с информацией о датасете видно, что в наборе данных отстуствует строковый тип данных, нет пропусков, отсутствуют значения NaN.\n",
    "# дополнительные операции по очистке данных не требуются"
   ]
  },
  {
   "cell_type": "code",
   "execution_count": null,
   "id": "07d4c50d-208c-44fe-8950-d76dfdcf64e7",
   "metadata": {},
   "outputs": [],
   "source": [
    "df.profile_report()"
   ]
  },
  {
   "cell_type": "code",
   "execution_count": null,
   "id": "bd5f5a9e-5e20-40a2-9ca4-e284c21f1cef",
   "metadata": {},
   "outputs": [],
   "source": [
    "# отчет показывает множество характеристик, в том числе среднее и медиалнное значение,  а так же гистограммы распределений.В датасете отсутствуют дубликаты.  \n",
    "# по гистограммам видно, что данные стремятся к нормальному распределению, кроме признака \"Угол нашивки\", где данные имеют всего два значения. "
   ]
  },
  {
   "cell_type": "code",
   "execution_count": null,
   "id": "aff46db6-786f-4778-a5a2-7ed27752456c",
   "metadata": {},
   "outputs": [],
   "source": [
    "df.columns"
   ]
  },
  {
   "cell_type": "code",
   "execution_count": null,
   "id": "0be7a3ed-6310-4779-9737-645f052b95b3",
   "metadata": {},
   "outputs": [],
   "source": [
    "df.corr()"
   ]
  },
  {
   "cell_type": "code",
   "execution_count": null,
   "id": "3f1b5145-5fef-4ee7-9ca6-22fc4d1ea268",
   "metadata": {},
   "outputs": [],
   "source": [
    "corr=df.corr()\n",
    "plt.figure(figsize=(10,7))\n",
    "sns.heatmap(corr,annot=True, fmt='.1g',  cmap= 'viridis')\n",
    "plt.title('Correlation Matrix')\n",
    "plt.show()"
   ]
  },
  {
   "cell_type": "code",
   "execution_count": null,
   "id": "c62bce91-2cff-46d3-a0db-6ab3c11fcd13",
   "metadata": {},
   "outputs": [],
   "source": [
    "# дополню анализ диаграммами ящика с усами, чтобы оценить наличие выбросов\n",
    "fig=plt.figure(figsize=(35,35))\n",
    "for i, col in enumerate(df.columns):\n",
    "    ax=fig.add_subplot(4, 4, i+1)\n",
    "    sns.boxplot(data=df, y=df[col], fliersize=15, linewidth=5)\n",
    "plt.title(col, size = 20)\n",
    "plt.show()"
   ]
  },
  {
   "cell_type": "code",
   "execution_count": null,
   "id": "b3da4d47-e165-4e19-af8b-30759384a18f",
   "metadata": {},
   "outputs": [],
   "source": [
    "# наличие выбросов прослеживается во всех признаках,кроме \"Угол нашивки,град\""
   ]
  },
  {
   "cell_type": "code",
   "execution_count": null,
   "id": "b9934415-2af1-4831-b6af-ce667d22db6f",
   "metadata": {},
   "outputs": [],
   "source": [
    "# строю попарные графики рассеяния точек\n",
    "sns.pairplot(df)"
   ]
  },
  {
   "cell_type": "code",
   "execution_count": null,
   "id": "6a38a1c9-e391-4eab-9368-aea2aec1f9e5",
   "metadata": {},
   "outputs": [],
   "source": [
    "# на графиках так же явно видны выбросы, точки, которые удалены от наибольшего скопления значений.\n",
    "# линейная зависимость между признаками не прослеживается"
   ]
  },
  {
   "cell_type": "markdown",
   "id": "84ff8810-7764-4dfd-9713-61540e5be9cd",
   "metadata": {},
   "source": [
    "Предобработка данных:"
   ]
  },
  {
   "cell_type": "code",
   "execution_count": null,
   "id": "800f6c70-246f-45f5-86f5-8786ee98349d",
   "metadata": {},
   "outputs": [],
   "source": [
    "# так как все признаки , кроме \"Угол нашивки\" имеют распределение , близкое к нормальному, то для определения выбросов воспользуюсь методом трех сигм:\n",
    "count_3S = 0\n",
    "for column in df:\n",
    "  d = df.loc[:, [column]]\n",
    "  zscore = (df[column] - df[column].mean()) / df[column].std()\n",
    "  d['3S'] = zscore.abs() > 3\n",
    "  count_3S += d['3S'].sum()\n",
    "print('Количество выбросов методом трех сигм:', count_3S)"
   ]
  },
  {
   "cell_type": "code",
   "execution_count": null,
   "id": "8ccde663-27de-42b6-8c30-3a9644e07d3e",
   "metadata": {},
   "outputs": [],
   "source": [
    "#удаление выбросов:\n",
    "df_clean = df[(np.abs(stats.zscore(df)) <= 3).all(axis = 1)]"
   ]
  },
  {
   "cell_type": "code",
   "execution_count": null,
   "id": "dd2f0ff2-7132-4fc5-bca4-fb41acdb79af",
   "metadata": {},
   "outputs": [],
   "source": [
    "df_clean.shape"
   ]
  },
  {
   "cell_type": "code",
   "execution_count": null,
   "id": "3821ea85-1bba-43f5-9502-114d460cb0cd",
   "metadata": {},
   "outputs": [],
   "source": [
    "#повторно проверю выбросы \n",
    "count_3S = 0\n",
    "for column in df_clean:\n",
    "  d = df_clean.loc[:, [column]]\n",
    "  zscore = (df_clean[column] - df_clean[column].mean()) / df_clean[column].std()\n",
    "  d['3S'] = zscore.abs() > 3\n",
    "  count_3S += d['3S'].sum()\n",
    "print('Количество выбросов методом трех сигм:', count_3S)"
   ]
  },
  {
   "cell_type": "code",
   "execution_count": null,
   "id": "e79d9609-7ecb-4467-803d-293895887c7e",
   "metadata": {},
   "outputs": [],
   "source": [
    "#удаление выбросов:\n",
    "df_clean = df_clean[(np.abs(stats.zscore(df_clean)) <= 3).all(axis = 1)]"
   ]
  },
  {
   "cell_type": "code",
   "execution_count": null,
   "id": "e5a4b11a-22b3-48cc-be0a-37f4cb16c785",
   "metadata": {},
   "outputs": [],
   "source": [
    "#повторно проверю выбросы \n",
    "count_3S = 0\n",
    "for column in df_clean:\n",
    "  d = df_clean.loc[:, [column]]\n",
    "  zscore = (df_clean[column] - df_clean[column].mean()) / df_clean[column].std()\n",
    "  d['3S'] = zscore.abs() > 3\n",
    "  count_3S += d['3S'].sum()\n",
    "print('Количество выбросов методом трех сигм:', count_3S)"
   ]
  },
  {
   "cell_type": "code",
   "execution_count": null,
   "id": "3215d840-d385-4972-b668-510f2dd807dd",
   "metadata": {},
   "outputs": [],
   "source": [
    "df_clean.iplot()"
   ]
  },
  {
   "cell_type": "code",
   "execution_count": null,
   "id": "5b0ca339-6844-42b7-b6ea-2cd051e56c73",
   "metadata": {},
   "outputs": [],
   "source": [
    "#график показывает, что данные имеют широкий диапазон значению, поэтому необходимо сделать нормализацию данных.\n",
    "# выполню нормализацию при помощи MinMaxScaler"
   ]
  },
  {
   "cell_type": "code",
   "execution_count": null,
   "id": "ce3a5bbb-a29d-4abb-bccb-ad3eee961a89",
   "metadata": {},
   "outputs": [],
   "source": [
    "Mmsclr = MinMaxScaler()\n",
    "df_norm = pd.DataFrame(Mmsclr.fit_transform(df_clean), columns = df_clean.columns, index = df_clean.index)"
   ]
  },
  {
   "cell_type": "code",
   "execution_count": null,
   "id": "86f9cc24-7704-47e4-8906-d646911d0547",
   "metadata": {},
   "outputs": [],
   "source": [
    "df_norm.iplot()"
   ]
  },
  {
   "cell_type": "code",
   "execution_count": null,
   "id": "0934e7c9-9139-424e-9262-df2c0c0af639",
   "metadata": {},
   "outputs": [],
   "source": [
    "# после применения MinMaxScaler все значения теперь расположены в диапозоне от 0 до 1"
   ]
  },
  {
   "cell_type": "code",
   "execution_count": null,
   "id": "cf5f6db3-c3c4-48b5-aa24-6b6514efd7e1",
   "metadata": {},
   "outputs": [],
   "source": [
    "fig, ax = plt.subplots(figsize=(12,6))\n",
    "df_norm.plot(kind = 'kde', ax = ax)"
   ]
  },
  {
   "cell_type": "code",
   "execution_count": null,
   "id": "2ed8ad25-97cf-41a4-83e3-895c08e15439",
   "metadata": {},
   "outputs": [],
   "source": [
    "# на графике видно, что все данные нормально распределены, кроме признака \"поверхностная плотность, г/м2\" - он смещен влево и \"угол нашивки, град\" это категориальный признак, т.к. имеет всего 2 уникадьных значения"
   ]
  },
  {
   "cell_type": "code",
   "execution_count": null,
   "id": "34bd8c0b-f814-490a-8734-b3c4860444c9",
   "metadata": {},
   "outputs": [],
   "source": [
    "# описательная статистика для очищенных и нормальзованных данных"
   ]
  },
  {
   "cell_type": "code",
   "execution_count": null,
   "id": "54331c5c-c6c7-4cae-a6d7-e5248173ef99",
   "metadata": {},
   "outputs": [],
   "source": [
    "df_norm.profile_report()"
   ]
  },
  {
   "cell_type": "code",
   "execution_count": null,
   "id": "64e2b40e-4196-499c-a16c-87a30daf99ef",
   "metadata": {},
   "outputs": [],
   "source": [
    "sns.pairplot(df_norm, height=4, diag_kind='kde', corner = True);"
   ]
  },
  {
   "cell_type": "code",
   "execution_count": null,
   "id": "ec322f42-bed3-430e-9141-f99831f7ec6d",
   "metadata": {},
   "outputs": [],
   "source": [
    "#на обработанных данных линейная зависимость между переменными также не прослеживается"
   ]
  },
  {
   "cell_type": "markdown",
   "id": "5de7fbd9-6a71-4406-92a7-9ef19832b92e",
   "metadata": {},
   "source": [
    "Обучение моделей"
   ]
  },
  {
   "cell_type": "code",
   "execution_count": null,
   "id": "b8b2421f-b4a2-4a76-b141-23f557d38a50",
   "metadata": {},
   "outputs": [],
   "source": [
    "df_norm.columns"
   ]
  },
  {
   "cell_type": "markdown",
   "id": "8425e1fb-71f0-432f-939a-49eb535b4d3c",
   "metadata": {},
   "source": [
    "1. Модель для прогноза модуля упругости при растяжении"
   ]
  },
  {
   "cell_type": "code",
   "execution_count": null,
   "id": "df654d18-25b5-41af-900b-bc21842948d3",
   "metadata": {},
   "outputs": [],
   "source": [
    "X = df_norm.drop('Модуль упругости при растяжении, ГПа', axis = 1)\n",
    "y = df_norm['Модуль упругости при растяжении, ГПа']"
   ]
  },
  {
   "cell_type": "code",
   "execution_count": null,
   "id": "d565866e-0455-4e67-bf2e-e73ec7bbd047",
   "metadata": {},
   "outputs": [],
   "source": [
    "# делю данные на обучающую и тестовую выборку, 70% и 30% \n",
    "X_train, X_test, y_train, y_test = train_test_split(X, y, test_size = 0.3, random_state = 1)\n",
    "print(f'Количество записей в обучающей выборке: {X_train.shape[0]}')\n",
    "print(f'Количество записей в тестовой выборке: {X_test.shape[0]}')"
   ]
  },
  {
   "cell_type": "code",
   "execution_count": null,
   "id": "3c782f26-db08-4558-a147-0ec9a66cff7d",
   "metadata": {},
   "outputs": [],
   "source": [
    "# функция для применения поиска гиперпараметров модели с помощью поиска по сетке с перекрестной проверкой (GridSearchCV)\n",
    "# функция для вывода результатов работы модели"
   ]
  },
  {
   "cell_type": "code",
   "execution_count": null,
   "id": "8a7ddcd5-d8cb-48b2-94fd-0ddd7e538ddb",
   "metadata": {},
   "outputs": [],
   "source": [
    "def GridSCV(model, params, X_train, y_train):\n",
    "  GSCV = GridSearchCV(model, params, n_jobs=-1, cv=10)  \n",
    "  GSCV.fit(X_train, y_train)\n",
    "  GSCV.best_params_\n",
    "  print(f'Лучший параметр для {model}:')\n",
    "  print(GSCV.best_params_)\n",
    "  return GSCV\n",
    "\n",
    "def ErrCouner(model, GSCV, X_test, y_test, column):\n",
    "  best_estimator = GSCV.best_estimator_\n",
    "  result = pd.DataFrame({\n",
    "     'Model': f'{model}', \n",
    "     'MAE': mean_absolute_error(y_test, best_estimator.predict(X_test)), \n",
    "     'MSE': mean_squared_error(y_test, best_estimator.predict(X_test)), \n",
    "     'R2 score': best_estimator.score(X_test, y_test)\n",
    "  }, index=[column])\n",
    "  print(result)\n",
    "  return result"
   ]
  },
  {
   "cell_type": "code",
   "execution_count": null,
   "id": "3cd050fb-0795-4113-8df6-070ae2493c63",
   "metadata": {},
   "outputs": [],
   "source": [
    "# модель линейной регрессии\n",
    "\n",
    "LRmodel = LinearRegression()\n",
    "params = { 'fit_intercept' : ['True', 'False']}"
   ]
  },
  {
   "cell_type": "code",
   "execution_count": null,
   "id": "7c92ae0e-a4d6-40ce-89ff-9421bb7c6481",
   "metadata": {},
   "outputs": [],
   "source": [
    "%%time\n",
    "GSCV = GridSCV(LRmodel, params, X_train, y_train.values.ravel())\n",
    "LRbest = GSCV.fit(X_train, y_train)\n",
    "ErrCouner(LRmodel, GSCV, X_test, y_test, 'Модуль упругости при растяжении')"
   ]
  },
  {
   "cell_type": "code",
   "execution_count": null,
   "id": "1cf4a4ca-d9ed-4414-8aa4-1702feb16a1a",
   "metadata": {},
   "outputs": [],
   "source": [
    "# такие показатели говорят о том, что модель плохо работает "
   ]
  },
  {
   "cell_type": "code",
   "execution_count": null,
   "id": "3e30a01d-835a-42ae-a576-71911ff6214d",
   "metadata": {},
   "outputs": [],
   "source": [
    "# модель \"случайный лес\"\n",
    "\n",
    "RFmodel = RandomForestRegressor(random_state = 42)\n",
    "params = {\n",
    "   'n_estimators': [20, 40, 60],\n",
    "   'max_features': ['auto', 'sqrt', 'log2'],\n",
    "   'max_depth' : [3,4,5,6]\n",
    "}"
   ]
  },
  {
   "cell_type": "code",
   "execution_count": null,
   "id": "3ecc5187-cbfc-4673-a712-257ba605b852",
   "metadata": {},
   "outputs": [],
   "source": [
    "%%time\n",
    "GSCV = GridSCV(RFmodel, params, X_train, y_train.values.ravel())\n",
    "RF_best = GSCV.fit(X_train, y_train)\n",
    "ErrCouner(RFmodel, GSCV, X_test, y_test, 'Модуль упругости при растяжении')"
   ]
  },
  {
   "cell_type": "code",
   "execution_count": null,
   "id": "2cca285d-047f-4b9f-953e-5d1bac7940e8",
   "metadata": {},
   "outputs": [],
   "source": [
    "# такие показатели говорят о том, что модель плохо работает "
   ]
  },
  {
   "cell_type": "code",
   "execution_count": null,
   "id": "766bcb57-9f63-44f4-9e07-e69253793041",
   "metadata": {},
   "outputs": [],
   "source": [
    "# модель \"Градиентный бустинг\" \n",
    "\n",
    "GBmodel = GradientBoostingRegressor()\n",
    "params = {\n",
    "    'learning_rate': np.arange(0.001, 0.1, 0.003),\n",
    "    'max_depth': np.arange(1, 12, 2),\n",
    "    'max_features':['log2','sqrt'],    \n",
    "          }"
   ]
  },
  {
   "cell_type": "code",
   "execution_count": null,
   "id": "94c34c06-ca19-4620-9296-eef013ce7f56",
   "metadata": {},
   "outputs": [],
   "source": [
    "%%time\n",
    "GSCV = GridSCV(GBmodel, params, X_train, y_train.values.ravel())\n",
    "GB_best = GSCV.fit(X_train, y_train)\n",
    "ErrCouner(GBmodel, GSCV, X_test, y_test, 'Модуль упругости при растяжении')"
   ]
  },
  {
   "cell_type": "code",
   "execution_count": null,
   "id": "aee51de0-7e97-44a2-a91e-558627b274e7",
   "metadata": {},
   "outputs": [],
   "source": [
    "# ни одна из представленных моделей не дает эффективного результата предсказания"
   ]
  },
  {
   "cell_type": "markdown",
   "id": "da052f1b-631c-4aae-b9cb-f76c30585705",
   "metadata": {},
   "source": [
    "2. Модель для прогноза прочности при растяжении"
   ]
  },
  {
   "cell_type": "code",
   "execution_count": null,
   "id": "d2c42e8c-1e67-4969-9db6-457c5e73b93f",
   "metadata": {},
   "outputs": [],
   "source": [
    "X = df_norm.drop('Прочность при растяжении, МПа', axis = 1)\n",
    "y = df_norm['Прочность при растяжении, МПа']"
   ]
  },
  {
   "cell_type": "code",
   "execution_count": null,
   "id": "a75b4e27-04a9-420e-89b1-0a84c3e61028",
   "metadata": {},
   "outputs": [],
   "source": [
    "X_train, X_test, y_train, y_test = train_test_split(X, y, test_size = 0.3, random_state = 1)\n",
    "print(f'Размер обучающей выборки: {X_train.shape[0]}')\n",
    "print(f'Размер тестовой выборки: {X_test.shape[0]}')"
   ]
  },
  {
   "cell_type": "code",
   "execution_count": null,
   "id": "4d93a5e7-5247-449a-8792-ad59acb2fc8f",
   "metadata": {},
   "outputs": [],
   "source": [
    "# модель линейной регрессии\n",
    "\n",
    "LRmodel = LinearRegression()\n",
    "params = { 'fit_intercept' : ['True', 'False']}"
   ]
  },
  {
   "cell_type": "code",
   "execution_count": null,
   "id": "5c183ab1-6722-45c9-9542-ca24b0ba8f15",
   "metadata": {},
   "outputs": [],
   "source": [
    "%%time\n",
    "GSCV = GridSCV(LRmodel, params, X_train, y_train.values.ravel())\n",
    "LRbest = GSCV.fit(X_train, y_train)\n",
    "ErrCouner(LRmodel, GSCV, X_test, y_test, 'Прочность при растяжении')"
   ]
  },
  {
   "cell_type": "code",
   "execution_count": null,
   "id": "79f6978b-8b01-4948-be1e-0b44912b8d3a",
   "metadata": {},
   "outputs": [],
   "source": [
    "# модель \"случайный лес\"\n",
    "\n",
    "RFmodel = RandomForestRegressor(random_state = 42)\n",
    "params = {\n",
    "   'n_estimators': [20, 40, 60],\n",
    "   'max_features': ['auto', 'sqrt', 'log2'],\n",
    "   'max_depth' : [3,4,5,6]\n",
    "}"
   ]
  },
  {
   "cell_type": "code",
   "execution_count": null,
   "id": "ea774a4d-6140-4200-a94e-31c4a9a1e25a",
   "metadata": {},
   "outputs": [],
   "source": [
    "%%time\n",
    "GSCV = GridSCV(RFmodel, params, X_train, y_train.values.ravel())\n",
    "RF_best = GSCV.fit(X_train, y_train)\n",
    "ErrCouner(RFmodel, GSCV, X_test, y_test, 'Прочность при растяжении')"
   ]
  },
  {
   "cell_type": "code",
   "execution_count": null,
   "id": "1a0e6306-b535-4f80-ac31-6559cf53dadb",
   "metadata": {},
   "outputs": [],
   "source": [
    "# модель \"Градиентный бустинг\" \n",
    "GBmodel = GradientBoostingRegressor()\n",
    "params = {\n",
    "    'learning_rate': np.arange(0.001, 0.1, 0.003),\n",
    "    'max_depth': np.arange(1, 12, 2),\n",
    "    'max_features':['log2','sqrt'],    \n",
    "          }"
   ]
  },
  {
   "cell_type": "code",
   "execution_count": null,
   "id": "c339af62-e60d-4ae4-a72d-5df5378098e1",
   "metadata": {},
   "outputs": [],
   "source": [
    "%%time\n",
    "GSCV = GridSCV(GBmodel, params, X_train, y_train.values.ravel())\n",
    "GB_best = GSCV.fit(X_train, y_train)\n",
    "ErrCouner(GBmodel, GSCV, X_test, y_test, 'Прочность при растяжении')"
   ]
  },
  {
   "cell_type": "code",
   "execution_count": null,
   "id": "f45dfbc6-40ca-4a63-964c-6517b30c88cf",
   "metadata": {},
   "outputs": [],
   "source": [
    "# отработавшие модели так же не показали положительный результат предсказаний"
   ]
  },
  {
   "cell_type": "markdown",
   "id": "21e1ffec-ee95-47e1-b22a-d54dcbe1d82e",
   "metadata": {},
   "source": [
    "Нейронная сеть для рекомендации соотношение матрица-наполнитель"
   ]
  },
  {
   "cell_type": "code",
   "execution_count": null,
   "id": "a648b7bb-170e-42e5-ac0c-ca236d29ef16",
   "metadata": {},
   "outputs": [],
   "source": [
    "# датасет с входными и выходными данными\n",
    "\n",
    "df_clean = df_clean.reset_index(drop = True)\n",
    "in_data = df_clean.drop('Соотношение матрица-наполнитель', axis = 1)\n",
    "out_data = df_clean['Соотношение матрица-наполнитель']"
   ]
  },
  {
   "cell_type": "code",
   "execution_count": null,
   "id": "327aedb7-818f-43f5-830e-94e5149ae923",
   "metadata": {},
   "outputs": [],
   "source": [
    "in_data"
   ]
  },
  {
   "cell_type": "code",
   "execution_count": null,
   "id": "9d5e303b-3871-4d35-a592-9d92bf2d8774",
   "metadata": {},
   "outputs": [],
   "source": [
    "out_data"
   ]
  },
  {
   "cell_type": "code",
   "execution_count": null,
   "id": "4a8e0cc2-58a3-4a58-87e7-e482fc6b5cbb",
   "metadata": {},
   "outputs": [],
   "source": [
    "# деление датасета на обучающую и тестовую выборки\n",
    "\n",
    "X_train, X_test, y_train, y_test = train_test_split(in_data, out_data, test_size = 0.2, random_state = 1)\n",
    "print(f'Размер обучающей выборки: {X_train.shape[0]}')\n",
    "print(f'Размер тестовой выборки: {X_test.shape[0]}')"
   ]
  },
  {
   "cell_type": "code",
   "execution_count": null,
   "id": "f2c0ad6d-6de4-42f7-96b0-d036b343393a",
   "metadata": {},
   "outputs": [],
   "source": [
    "normalizer = tf.keras.layers.Normalization(input_shape = [12,], axis = None)\n",
    "normalizer.adapt(np.array(X_train))"
   ]
  },
  {
   "cell_type": "code",
   "execution_count": null,
   "id": "0de00393-383f-4681-aab4-2ac833b1720f",
   "metadata": {},
   "outputs": [],
   "source": [
    "X_train"
   ]
  },
  {
   "cell_type": "code",
   "execution_count": null,
   "id": "03e88f2b-63f7-4409-82c7-6db87510ff90",
   "metadata": {},
   "outputs": [],
   "source": [
    "# создание модели\n",
    "\n",
    "sqntl_model = Sequential([\n",
    "                    normalizer,\n",
    "                    Dense(1024, activation = 'relu'),\n",
    "                    Dense(1024, activation = 'relu'),\n",
    "                    Dense(1)\n",
    "                    ])\n",
    "\n",
    "sqntl_model.compile(loss = 'mean_squared_error', optimizer = tf.keras.optimizers.Adam(0.0005))"
   ]
  },
  {
   "cell_type": "code",
   "execution_count": null,
   "id": "e7442bf6-e933-48d4-9b76-c0bbe4a40b9e",
   "metadata": {},
   "outputs": [],
   "source": [
    "sqntl_model.summary()"
   ]
  },
  {
   "cell_type": "code",
   "execution_count": null,
   "id": "774c73fc-b4ae-4a9f-83f0-37ccd4b406d5",
   "metadata": {},
   "outputs": [],
   "source": [
    "# обучение модели"
   ]
  },
  {
   "cell_type": "code",
   "execution_count": null,
   "id": "5e8dbfdc-803f-4c2d-a1c0-592b323ac2fa",
   "metadata": {},
   "outputs": [],
   "source": [
    "%%time\n",
    "history = sqntl_model.fit(X_train, y_train, validation_split = 0.2, verbose = 1, epochs = 70)"
   ]
  },
  {
   "cell_type": "code",
   "execution_count": null,
   "id": "6f7c8af2-4c41-4912-9b84-ee545e32bbc4",
   "metadata": {},
   "outputs": [],
   "source": [
    "# график для визуализации ошибки нейросети\n",
    "\n",
    "def plot_loss(history):\n",
    "    plt.plot(history.history['loss'], label = 'loss')\n",
    "    plt.plot(history.history['val_loss'], label = 'val_loss')\n",
    "    plt.ylim([0, 2])\n",
    "    plt.xlabel('Эпоха')\n",
    "    plt.ylabel('MSE [MPG]')\n",
    "    plt.legend()\n",
    "    plt.grid(True)"
   ]
  },
  {
   "cell_type": "code",
   "execution_count": null,
   "id": "d0ec26ba-f538-4f29-a63a-28f47a96b56b",
   "metadata": {},
   "outputs": [],
   "source": [
    "plot_loss(history)"
   ]
  },
  {
   "cell_type": "code",
   "execution_count": null,
   "id": "67869c71-b95b-4b90-a901-37a57aa1dc94",
   "metadata": {},
   "outputs": [],
   "source": [
    "# график рассеяния предстказанных данных нейросетью\n",
    "\n",
    "import plotly.express as px\n",
    "\n",
    "result_data = pd.DataFrame()\n",
    "result_data[\"Предсказанное значение\"] = sqntl_model.predict(np.array((X_test))).reshape(-1, )\n",
    "result_data[\"Оригинальное значение\"] = y_test.values\n",
    "\n",
    "fig = px.scatter(result_data, x=\"Предсказанное значение\", y=\"Оригинальное значение\", trendline=\"ols\")"
   ]
  }
 ],
 "metadata": {
  "kernelspec": {
   "display_name": "Python 3 (ipykernel)",
   "language": "python",
   "name": "python3"
  },
  "language_info": {
   "codemirror_mode": {
    "name": "ipython",
    "version": 3
   },
   "file_extension": ".py",
   "mimetype": "text/x-python",
   "name": "python",
   "nbconvert_exporter": "python",
   "pygments_lexer": "ipython3",
   "version": "3.9.13"
  }
 },
 "nbformat": 4,
 "nbformat_minor": 5
}
